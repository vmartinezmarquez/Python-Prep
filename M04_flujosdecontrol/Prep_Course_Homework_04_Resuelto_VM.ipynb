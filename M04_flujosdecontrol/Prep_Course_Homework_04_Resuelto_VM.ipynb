{
 "cells": [
  {
   "attachments": {},
   "cell_type": "markdown",
   "metadata": {},
   "source": [
    "## Flujos de Control"
   ]
  },
  {
   "attachments": {},
   "cell_type": "markdown",
   "metadata": {},
   "source": [
    "1) Crear una variable que contenga un elemento del conjunto de números enteros y luego imprimir por pantalla si es mayor o menor a cero"
   ]
  },
  {
   "cell_type": "code",
   "execution_count": 1,
   "metadata": {},
   "outputs": [
    {
     "name": "stdout",
     "output_type": "stream",
     "text": [
      "el nuemro es menor que 0\n"
     ]
    }
   ],
   "source": [
    "var1= -3\n",
    "if (var1> 0):\n",
    " print ('el nuemro es mayor que 0')\n",
    "elif (var1<0):\n",
    " print ('el nuemro es menor que 0')\n",
    "else :\n",
    " print('el numero es igual a 0')\n",
    " \n"
   ]
  },
  {
   "attachments": {},
   "cell_type": "markdown",
   "metadata": {},
   "source": [
    "2) Crear dos variables y un condicional que informe si son del mismo tipo de dato"
   ]
  },
  {
   "cell_type": "code",
   "execution_count": 9,
   "metadata": {},
   "outputs": [
    {
     "name": "stdout",
     "output_type": "stream",
     "text": [
      "las variables son diferentes\n"
     ]
    }
   ],
   "source": [
    "a = 10\n",
    "b = 'vinicius'\n",
    "if (type(a)==type(b)):\n",
    "    print('las variables son igules')\n",
    "else:\n",
    "    print('las variables son diferentes')"
   ]
  },
  {
   "attachments": {},
   "cell_type": "markdown",
   "metadata": {},
   "source": [
    "3) Para los valores enteros del 1 al 20, imprimir por pantalla si es par o impar"
   ]
  },
  {
   "cell_type": "code",
   "execution_count": 12,
   "metadata": {},
   "outputs": [
    {
     "name": "stdout",
     "output_type": "stream",
     "text": [
      "el numero 1 es impar\n",
      "el numero 2 es par\n",
      "el numero 3 es impar\n",
      "el numero 4 es par\n",
      "el numero 5 es impar\n",
      "el numero 6 es par\n",
      "el numero 7 es impar\n",
      "el numero 8 es par\n",
      "el numero 9 es impar\n",
      "el numero 10 es par\n",
      "el numero 11 es impar\n",
      "el numero 12 es par\n",
      "el numero 13 es impar\n",
      "el numero 14 es par\n",
      "el numero 15 es impar\n",
      "el numero 16 es par\n",
      "el numero 17 es impar\n",
      "el numero 18 es par\n",
      "el numero 19 es impar\n",
      "el numero 20 es par\n"
     ]
    }
   ],
   "source": [
    "for i in range(1,21):\n",
    " if i % 2 == 0:\n",
    "  print('el numero', i ,'es par')\n",
    " else:\n",
    "  print('el numero', i , 'es impar')\n"
   ]
  },
  {
   "attachments": {},
   "cell_type": "markdown",
   "metadata": {},
   "source": [
    "4) En un ciclo for mostrar para los valores entre 0 y 5 el resultado de elevarlo a la potencia igual a 3"
   ]
  },
  {
   "cell_type": "code",
   "execution_count": 14,
   "metadata": {},
   "outputs": [
    {
     "name": "stdout",
     "output_type": "stream",
     "text": [
      "el valor 0 elevado a la terecera pontecia es 0\n",
      "el valor 1 elevado a la terecera pontecia es 1\n",
      "el valor 2 elevado a la terecera pontecia es 8\n",
      "el valor 3 elevado a la terecera pontecia es 27\n",
      "el valor 4 elevado a la terecera pontecia es 64\n",
      "el valor 5 elevado a la terecera pontecia es 125\n"
     ]
    }
   ],
   "source": [
    "for i in range (0,6):\n",
    "    print ('el valor',i, 'elevado a la terecera pontecia es',i**3)"
   ]
  },
  {
   "attachments": {},
   "cell_type": "markdown",
   "metadata": {},
   "source": [
    "5) Crear una variable que contenga un número entero y realizar un ciclo for la misma cantidad de ciclos"
   ]
  },
  {
   "cell_type": "code",
   "execution_count": 18,
   "metadata": {},
   "outputs": [
    {
     "name": "stdout",
     "output_type": "stream",
     "text": [
      "9\n"
     ]
    }
   ],
   "source": [
    "a=10\n",
    "for i in range(0,a):\n",
    "    pass\n",
    "print (i) "
   ]
  },
  {
   "attachments": {},
   "cell_type": "markdown",
   "metadata": {},
   "source": [
    "6) Utilizar un ciclo while para realizar el factorial de un número guardado en una variable, sólo si la variable contiene un número entero mayor a 0"
   ]
  },
  {
   "cell_type": "code",
   "execution_count": 4,
   "metadata": {},
   "outputs": [
    {
     "name": "stdout",
     "output_type": "stream",
     "text": [
      "el factorial es 24\n"
     ]
    }
   ],
   "source": [
    "a = 4\n",
    "if (type(a) == int):\n",
    "    if (a>0):\n",
    "        factorial = a \n",
    "        while(a > 2):\n",
    "            a = a -1 \n",
    "            factorial= factorial * a \n",
    "        print('el factorial es', factorial)\n",
    "    else:\n",
    "        print ('la variable no es mayor a 0')\n",
    "else:\n",
    "    print('la variable no es un entero')\n",
    "\n",
    "\n"
   ]
  },
  {
   "attachments": {},
   "cell_type": "markdown",
   "metadata": {},
   "source": [
    "7) Crear un ciclo for dentro de un ciclo while"
   ]
  },
  {
   "cell_type": "code",
   "execution_count": 11,
   "metadata": {},
   "outputs": [
    {
     "name": "stdout",
     "output_type": "stream",
     "text": [
      "cliclo while es  3\n",
      "clclo for es 3\n",
      "clclo for es 3\n",
      "clclo for es 3\n",
      "cliclo while es  4\n",
      "clclo for es 4\n",
      "clclo for es 4\n",
      "clclo for es 4\n",
      "clclo for es 4\n",
      "cliclo while es  5\n",
      "clclo for es 5\n",
      "clclo for es 5\n",
      "clclo for es 5\n",
      "clclo for es 5\n",
      "clclo for es 5\n"
     ]
    }
   ],
   "source": [
    "\n",
    "a = 3 \n",
    "while a < 6:\n",
    "    print('cliclo while es ', + (a))\n",
    "    for i in range(1, a+1):\n",
    "        print('clclo for es', + (a))\n",
    "    a += 1"
   ]
  },
  {
   "attachments": {},
   "cell_type": "markdown",
   "metadata": {},
   "source": [
    "8) Crear un ciclo while dentro de un ciclo for"
   ]
  },
  {
   "cell_type": "code",
   "execution_count": 5,
   "metadata": {},
   "outputs": [
    {
     "name": "stdout",
     "output_type": "stream",
     "text": [
      "cliclo for 5\n",
      "cliclo while 5\n",
      "cliclo for 5\n",
      "cliclo while 5\n",
      "cliclo for 5\n",
      "cliclo while 5\n",
      "cliclo for 5\n",
      "cliclo while 5\n"
     ]
    }
   ],
   "source": [
    "a = 5 \n",
    "for i in range (1,a):\n",
    "    while(a < 5):\n",
    "     n-=1\n",
    "    print('cliclo for', a)\n",
    "    print('cliclo while', a )"
   ]
  },
  {
   "attachments": {},
   "cell_type": "markdown",
   "metadata": {},
   "source": [
    "9) Imprimir los números primos existentes entre 0 y 30"
   ]
  },
  {
   "cell_type": "code",
   "execution_count": null,
   "metadata": {},
   "outputs": [],
   "source": []
  },
  {
   "cell_type": "code",
   "execution_count": 26,
   "metadata": {},
   "outputs": [
    {
     "name": "stdout",
     "output_type": "stream",
     "text": [
      "0\n",
      "1\n",
      "2\n",
      "3\n",
      "5\n",
      "7\n",
      "11\n",
      "13\n",
      "17\n",
      "19\n",
      "23\n",
      "29\n"
     ]
    }
   ],
   "source": [
    "primo = True\n",
    "for i in range(0,31):\n",
    "    for x in range (2,i):\n",
    "        if (i%x == 0):\n",
    "            primo = False\n",
    "    if primo:\n",
    "        print(i)\n",
    "    else:\n",
    "        primo = True\n",
    "\n",
    "\n",
    "    \n",
    "\n",
    "\n",
    "\n"
   ]
  },
  {
   "attachments": {},
   "cell_type": "markdown",
   "metadata": {},
   "source": [
    "10) ¿Se puede mejorar el proceso del punto 9? Utilizar las sentencias break y/ó continue para tal fin"
   ]
  },
  {
   "cell_type": "code",
   "execution_count": 27,
   "metadata": {},
   "outputs": [
    {
     "name": "stdout",
     "output_type": "stream",
     "text": [
      "0\n",
      "1\n",
      "2\n",
      "3\n",
      "5\n",
      "7\n",
      "11\n",
      "13\n",
      "17\n",
      "19\n",
      "23\n",
      "29\n"
     ]
    }
   ],
   "source": [
    "primo = True\n",
    "for i in range(0,31):\n",
    "    for x in range (2,i):\n",
    "        if (i%x == 0):\n",
    "            primo = False\n",
    "            break\n",
    "    if primo:\n",
    "        print(i)\n",
    "    else:\n",
    "        primo = True\n"
   ]
  },
  {
   "attachments": {},
   "cell_type": "markdown",
   "metadata": {},
   "source": [
    "11) En los puntos 9 y 10, se diseño un código que encuentra números primos y además se lo optimizó. ¿Es posible saber en qué medida se optimizó?"
   ]
  },
  {
   "cell_type": "code",
   "execution_count": 29,
   "metadata": {},
   "outputs": [
    {
     "name": "stdout",
     "output_type": "stream",
     "text": [
      "0\n",
      "1\n",
      "2\n",
      "3\n",
      "5\n",
      "7\n",
      "11\n",
      "13\n",
      "17\n",
      "19\n",
      "23\n",
      "29\n"
     ]
    },
    {
     "data": {
      "text/plain": [
       "406"
      ]
     },
     "execution_count": 29,
     "metadata": {},
     "output_type": "execute_result"
    }
   ],
   "source": [
    "ciclo_sin_break = 0\n",
    "primo = True\n",
    "for i in range(0,31):\n",
    "    for x in range (2,i):\n",
    "        ciclo_sin_break = ciclo_sin_break + 1\n",
    "        if (i%x == 0):\n",
    "            primo = False\n",
    "    if primo:\n",
    "        print(i)\n",
    "    else:\n",
    "        primo = True\n",
    "ciclo_sin_break \n"
   ]
  },
  {
   "cell_type": "code",
   "execution_count": 37,
   "metadata": {},
   "outputs": [
    {
     "name": "stdout",
     "output_type": "stream",
     "text": [
      "0\n",
      "1\n",
      "2\n",
      "3\n",
      "5\n",
      "7\n",
      "11\n",
      "13\n",
      "17\n",
      "19\n",
      "23\n",
      "29\n",
      "se optimiza con el break ya qu solo hace  135 ciclos\n",
      "porcentaje de disminucion es de 33.251 %\n"
     ]
    }
   ],
   "source": [
    "ciclo_break = 0\n",
    "primo = True\n",
    "for i in range(0,31):\n",
    "    for x in range (2,i):\n",
    "        ciclo_break= ciclo_break +1\n",
    "        if (i%x == 0):\n",
    "            primo = False\n",
    "            break\n",
    "    if primo:\n",
    "        print(i)\n",
    "    else:\n",
    "        primo = True\n",
    "ciclo_break\n",
    "print('se optimiza con el break ya qu solo hace ', ciclo_break,'ciclos')\n",
    "print('porcentaje de disminucion es de', round((ciclo_break/ciclo_sin_break)*100,3), '%' )"
   ]
  },
  {
   "attachments": {},
   "cell_type": "markdown",
   "metadata": {},
   "source": [
    "12) Si la cantidad de números que se evalúa es mayor a treinta, esa optimización crece?"
   ]
  },
  {
   "cell_type": "code",
   "execution_count": 38,
   "metadata": {},
   "outputs": [
    {
     "name": "stdout",
     "output_type": "stream",
     "text": [
      "0\n",
      "1\n",
      "2\n",
      "3\n",
      "5\n",
      "7\n",
      "11\n",
      "13\n",
      "17\n",
      "19\n",
      "23\n",
      "29\n",
      "31\n",
      "37\n",
      "41\n",
      "43\n",
      "47\n"
     ]
    },
    {
     "data": {
      "text/plain": [
       "1128"
      ]
     },
     "execution_count": 38,
     "metadata": {},
     "output_type": "execute_result"
    }
   ],
   "source": [
    "ciclo_sin_break = 0\n",
    "primo = True\n",
    "for i in range(0,50):\n",
    "    for x in range (2,i):\n",
    "        ciclo_sin_break = ciclo_sin_break + 1\n",
    "        if (i%x == 0):\n",
    "            primo = False\n",
    "    if primo:\n",
    "        print(i)\n",
    "    else:\n",
    "        primo = True\n",
    "ciclo_sin_break "
   ]
  },
  {
   "cell_type": "code",
   "execution_count": 39,
   "metadata": {},
   "outputs": [
    {
     "name": "stdout",
     "output_type": "stream",
     "text": [
      "0\n",
      "1\n",
      "2\n",
      "3\n",
      "5\n",
      "7\n",
      "11\n",
      "13\n",
      "17\n",
      "19\n",
      "23\n",
      "29\n",
      "31\n",
      "37\n",
      "41\n",
      "43\n",
      "47\n",
      "se optimiza con el break ya qu solo hace  349 ciclos\n",
      "porcentaje de disminucion es de 30.94 %\n"
     ]
    }
   ],
   "source": [
    "ciclo_break = 0\n",
    "primo = True\n",
    "for i in range(0,50):\n",
    "    for x in range (2,i):\n",
    "        ciclo_break= ciclo_break +1\n",
    "        if (i%x == 0):\n",
    "            primo = False\n",
    "            break\n",
    "    if primo:\n",
    "        print(i)\n",
    "    else:\n",
    "        primo = True\n",
    "ciclo_break\n",
    "print('se optimiza con el break ya qu solo hace ', ciclo_break,'ciclos')\n",
    "print('porcentaje de disminucion es de', round((ciclo_break/ciclo_sin_break)*100,3), '%' )"
   ]
  },
  {
   "attachments": {},
   "cell_type": "markdown",
   "metadata": {},
   "source": [
    "13) Aplicando continue, armar un ciclo while que solo imprima los valores divisibles por 12, dentro del rango de números de 100 a 300"
   ]
  },
  {
   "cell_type": "code",
   "execution_count": 40,
   "metadata": {},
   "outputs": [
    {
     "name": "stdout",
     "output_type": "stream",
     "text": [
      "el numero 108 es divisible por 12\n",
      "el numero 120 es divisible por 12\n",
      "el numero 132 es divisible por 12\n",
      "el numero 144 es divisible por 12\n",
      "el numero 156 es divisible por 12\n",
      "el numero 168 es divisible por 12\n",
      "el numero 180 es divisible por 12\n",
      "el numero 192 es divisible por 12\n",
      "el numero 204 es divisible por 12\n",
      "el numero 216 es divisible por 12\n",
      "el numero 228 es divisible por 12\n",
      "el numero 240 es divisible por 12\n",
      "el numero 252 es divisible por 12\n",
      "el numero 264 es divisible por 12\n",
      "el numero 276 es divisible por 12\n",
      "el numero 288 es divisible por 12\n",
      "el numero 300 es divisible por 12\n"
     ]
    }
   ],
   "source": [
    "n = 99\n",
    "while(n<=300):\n",
    "    n +=1\n",
    "    if(n % 12 != 0):\n",
    "        continue\n",
    "    print('el numero', n, 'es divisible por 12')"
   ]
  },
  {
   "attachments": {},
   "cell_type": "markdown",
   "metadata": {},
   "source": [
    "14) Utilizar la función **input()** que permite hacer ingresos por teclado, para encontrar números primos y dar la opción al usario de buscar el siguiente"
   ]
  },
  {
   "cell_type": "code",
   "execution_count": 51,
   "metadata": {},
   "outputs": [
    {
     "name": "stdout",
     "output_type": "stream",
     "text": [
      "el valor  2 es primo\n",
      "quieres buscar el siguiente\n",
      "busqueda finalizada\n"
     ]
    }
   ],
   "source": [
    "n = 2\n",
    "primo = True\n",
    "while True:\n",
    "    for x in range (2,n):\n",
    "        if (n%x == 0):\n",
    "            primo = False\n",
    "            break\n",
    "    if primo:\n",
    "        print('el valor ', n, 'es primo')\n",
    "        print('quieres buscar el siguiente')\n",
    "        if (input() != 'Y'):\n",
    "            print('busqueda finalizada')\n",
    "            break\n",
    "    else:\n",
    "        primo = True\n",
    "    n = n + 1"
   ]
  },
  {
   "attachments": {},
   "cell_type": "markdown",
   "metadata": {},
   "source": [
    "15) Crear un ciclo while que encuentre dentro del rango de 100 a 300 el primer número divisible por 3 y además múltiplo de 6"
   ]
  },
  {
   "cell_type": "code",
   "execution_count": 53,
   "metadata": {},
   "outputs": [
    {
     "name": "stdout",
     "output_type": "stream",
     "text": [
      " el numero es  102\n"
     ]
    }
   ],
   "source": [
    "n = 99\n",
    "while(n<=300):\n",
    "    n +=1\n",
    "    if(n% 6  == 0):\n",
    "        print(' el numero es ', n)\n",
    "        break\n"
   ]
  }
 ],
 "metadata": {
  "interpreter": {
   "hash": "c85384e4cb51c8b72350f3a8712cc8351fdc3955e32a27f9b60c6242ab125f01"
  },
  "kernelspec": {
   "display_name": "Python 3 (ipykernel)",
   "language": "python",
   "name": "python3"
  },
  "language_info": {
   "codemirror_mode": {
    "name": "ipython",
    "version": 3
   },
   "file_extension": ".py",
   "mimetype": "text/x-python",
   "name": "python",
   "nbconvert_exporter": "python",
   "pygments_lexer": "ipython3",
   "version": "3.11.4"
  }
 },
 "nbformat": 4,
 "nbformat_minor": 4
}
